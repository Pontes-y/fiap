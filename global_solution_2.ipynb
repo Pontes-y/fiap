{
  "nbformat": 4,
  "nbformat_minor": 0,
  "metadata": {
    "colab": {
      "provenance": [],
      "authorship_tag": "ABX9TyOvauRbNEBwGWIDIKvOOtl2",
      "include_colab_link": true
    },
    "kernelspec": {
      "name": "python3",
      "display_name": "Python 3"
    },
    "language_info": {
      "name": "python"
    }
  },
  "cells": [
    {
      "cell_type": "markdown",
      "metadata": {
        "id": "view-in-github",
        "colab_type": "text"
      },
      "source": [
        "<a href=\"https://colab.research.google.com/github/Pontes-y/fiap/blob/main/global_solution_2.ipynb\" target=\"_parent\"><img src=\"https://colab.research.google.com/assets/colab-badge.svg\" alt=\"Open In Colab\"/></a>"
      ]
    },
    {
      "cell_type": "code",
      "source": [
        "!pip install azure-cosmos"
      ],
      "metadata": {
        "id": "gFVuXxlXkNHq"
      },
      "execution_count": null,
      "outputs": []
    },
    {
      "cell_type": "code",
      "execution_count": 174,
      "metadata": {
        "id": "BN5IuocwDmU3"
      },
      "outputs": [],
      "source": [
        "import json\n",
        "import secrets\n",
        "import random\n",
        "from google.colab import userdata\n",
        "from azure.cosmos import CosmosClient, exceptions, PartitionKey"
      ]
    },
    {
      "cell_type": "code",
      "source": [
        "cosmos_endpoint = userdata.get('cosmos_endpoint')\n",
        "cosmos_key = userdata.get('cosmos_key')"
      ],
      "metadata": {
        "id": "gzrdY8B74Vbg"
      },
      "execution_count": 163,
      "outputs": []
    },
    {
      "cell_type": "code",
      "source": [
        "# dados do banco de pacientes\n",
        "# desabilitado devido a limites da licenca da Azure Students\n",
        "# p_db_name = \"cosmos0\"\n",
        "# p_db_container = \"pacientes\"\n",
        "# p_db_partitionkey = \"grupoA\""
      ],
      "metadata": {
        "id": "XfbCAbmr-eAr"
      },
      "execution_count": 176,
      "outputs": []
    },
    {
      "cell_type": "code",
      "source": [
        "# carregando arquivos de testes de pacientes\n",
        "file = open('/content/test.json', 'r')\n",
        "json_data = json.load(file)"
      ],
      "metadata": {
        "id": "trhBBl_GjUc2"
      },
      "execution_count": 165,
      "outputs": []
    },
    {
      "cell_type": "code",
      "source": [
        "# carregando arquivos com informações dos bancos de dados que serão utilizados para o sharding\n",
        "file = open('/content/database_list.json', 'r')\n",
        "database_list = json.load(file)\n",
        "database_id_list = []\n",
        "quantidade_db = 0\n",
        "for database in database_list[\"databases\"]:\n",
        "  database_id_list.append(database[\"database_id\"])\n",
        "  quantidade_db = quantidade_db + 1\n",
        "\n",
        "print(database_id_list)\n",
        "print(quantidade_db)"
      ],
      "metadata": {
        "colab": {
          "base_uri": "https://localhost:8080/"
        },
        "id": "jLqoXNYjotJY",
        "outputId": "8e962553-1af9-4c03-a0fb-0157e51c6aa3"
      },
      "execution_count": 166,
      "outputs": [
        {
          "output_type": "stream",
          "name": "stdout",
          "text": [
            "[1, 2]\n",
            "2\n"
          ]
        }
      ]
    },
    {
      "cell_type": "code",
      "source": [
        "# função para gerar 4 bytes aleatórios (8 dígitos hexadecimais)\n",
        "def gerar_numero_hexadecimal():\n",
        "    numero_hexadecimal = secrets.token_hex(4)\n",
        "    return numero_hexadecimal"
      ],
      "metadata": {
        "id": "1vxevbwp60Ww"
      },
      "execution_count": 167,
      "outputs": []
    },
    {
      "cell_type": "code",
      "source": [
        "# função para escolher aleatoriamente um dos banco de dados da lista\n",
        "def escolher_database(lista):\n",
        "  return random.choice(lista)"
      ],
      "metadata": {
        "id": "lJLbZPqLup3y"
      },
      "execution_count": 168,
      "outputs": []
    },
    {
      "cell_type": "code",
      "source": [
        "# função para gerar as informações do database escolhido\n",
        "def database_config(index):\n",
        "  for database in database_list[\"databases\"]:\n",
        "    if database[\"database_id\"] == index:\n",
        "      for config in database[\"config\"]:\n",
        "        database_name = config[\"name\"]\n",
        "        container_name = config[\"container\"]\n",
        "        partition_key = config[\"partitionKey\"]\n",
        "  return database_name, container_name, partition_key"
      ],
      "metadata": {
        "id": "0NUwkQyKk_jL"
      },
      "execution_count": 169,
      "outputs": []
    },
    {
      "cell_type": "code",
      "source": [
        "def upload_cosmos(database_name, container_name, arquivo):\n",
        "  client = CosmosClient(cosmos_endpoint, cosmos_key)\n",
        "\n",
        "  # Criar ou obter um banco de dados\n",
        "  database = client.create_database_if_not_exists(id=database_name)\n",
        "\n",
        "  # Criar ou obter um contêiner\n",
        "  container = database.create_container_if_not_exists(\n",
        "    id=container_name,\n",
        "    partition_key=PartitionKey(path=\"/chave_de_particao\")\n",
        "  )\n",
        "\n",
        "  # efetua o upload\n",
        "  container.upsert_item(body=arquivo)\n",
        "  print(\"upload finalizado\")"
      ],
      "metadata": {
        "id": "MB4VIXeO7Gxq"
      },
      "execution_count": 170,
      "outputs": []
    },
    {
      "cell_type": "code",
      "source": [
        "def upload_dynamo(database_name, container_name, arquivo):\n",
        "  print(\"função teste\")"
      ],
      "metadata": {
        "id": "n5NQu3dd7ggD"
      },
      "execution_count": 171,
      "outputs": []
    },
    {
      "cell_type": "code",
      "source": [
        "# função para identificar a cloud\n",
        "def upload_shard(database_name, container_name, arquivo):\n",
        "  # verifica se o banco de dados é CosmosDB da Azure\n",
        "  print(database_name[:6])\n",
        "  if database_name[:6] == \"cosmos\":\n",
        "    upload_cosmos(database_name, container_name, arquivo)\n",
        "\n",
        "  # verifica se o banco de dados é DynamnoDB da AWS\n",
        "  if database_name[:7] == \"dyanamo\":\n",
        "    upload_dynamo(database_name, container_name, arquivo)"
      ],
      "metadata": {
        "id": "j77x9bBw3esa"
      },
      "execution_count": 177,
      "outputs": []
    },
    {
      "cell_type": "code",
      "source": [
        "# Iterar sobre os pacientes no JSON\n",
        "for paciente in json_data[\"pacientes\"]:\n",
        "  # cria lista em banco para adicionar informacoes do paciente\n",
        "  paciente_data = {}\n",
        "  quantidade_exames = 0\n",
        "\n",
        "  # escolha aleatoria de database inicial\n",
        "  database_index = escolher_database(database_id_list)\n",
        "  print()\n",
        "\n",
        "  # carrega configurações do database\n",
        "  database_name, container_name, partition_key = database_config(database_index)\n",
        "\n",
        "  # cria chave inicial\n",
        "  chave_inicial = f\"{database_name}-{container_name}-{partition_key}-{gerar_numero_hexadecimal()}\"\n",
        "\n",
        "  # adiciona chave inicial e informacoes necessarias para o banco de pacientes\n",
        "  paciente_data[\"id\"] = str(paciente[\"paciente_id\"])\n",
        "  paciente_data[\"paciente_id\"] = paciente[\"paciente_id\"]\n",
        "  paciente_data[\"chave_inicial\"] = chave_inicial\n",
        "  paciente_data[\"chave_de_particao\"] = partition_key\n",
        "\n",
        "\n",
        "  # escreve paciente e chave inicial no banco de pacientes\n",
        "  # upload_shard(p_db_name, p_db_container, paciente_data)\n",
        "\n",
        "  # inicia o sharding dos exames do paciente\n",
        "  for exame in paciente[\"exames\"]:\n",
        "    exame[\"id\"] = str(exame[\"exame_id\"])\n",
        "    exame[\"chave_inicial\"] = chave_inicial\n",
        "    database_index = database_index + 1\n",
        "    if database_index > quantidade_db:\n",
        "      database_index = 1\n",
        "\n",
        "    # cria chave final\n",
        "    database_name, container_name, partition_key = database_config(database_index)\n",
        "    chave_final = f\"{database_name}-{container_name}-{partition_key}-{gerar_numero_hexadecimal()}\"\n",
        "    exame[\"chave_de_particao\"] = partition_key\n",
        "    exame[\"chave_final\"] = chave_final\n",
        "    chave_inicial = chave_final\n",
        "\n",
        "    # atualiza quantidade de exames\n",
        "    quantidade_exames = quantidade_exames + 1\n",
        "    print(exame)\n",
        "\n",
        "    upload_cosmos(database_name, container_name, exame)\n",
        "\n",
        "  paciente_data[\"chave_final\"] = chave_final\n",
        "  paciente_data[\"quantidade_exames\"] = quantidade_exames\n",
        "  print(paciente_data)"
      ],
      "metadata": {
        "colab": {
          "base_uri": "https://localhost:8080/"
        },
        "id": "wxzfVLaAdqf-",
        "outputId": "0e52f480-d1c7-4605-a9c2-a404ec873e2b"
      },
      "execution_count": 175,
      "outputs": [
        {
          "output_type": "stream",
          "name": "stdout",
          "text": [
            "\n",
            "{'exame_id': 1, 'resultados': False, 'id': '1', 'chave_inicial': 'cosmos1-gs2-grupoA-4ca6d58f', 'chave_de_particao': 'grupoA', 'chave_final': 'cosmos1-gs1-grupoA-2ea50ecb'}\n",
            "upload finalizado\n",
            "{'exame_id': 2, 'resultados': True, 'medicamentos': '1ml', 'id': '2', 'chave_inicial': 'cosmos1-gs1-grupoA-2ea50ecb', 'chave_de_particao': 'grupoA', 'chave_final': 'cosmos1-gs2-grupoA-6d16be85'}\n",
            "upload finalizado\n",
            "{'id': '1', 'paciente_id': 1, 'chave_inicial': 'cosmos1-gs2-grupoA-4ca6d58f', 'chave_de_particao': 'grupoA', 'chave_final': 'cosmos1-gs2-grupoA-6d16be85', 'quantidade_exames': 2}\n",
            "\n",
            "{'exame_id': 3, 'resultados': False, 'id': '3', 'chave_inicial': 'cosmos1-gs1-grupoA-7d5e5897', 'chave_de_particao': 'grupoA', 'chave_final': 'cosmos1-gs2-grupoA-9f9148ea'}\n",
            "upload finalizado\n",
            "{'id': '2', 'paciente_id': 2, 'chave_inicial': 'cosmos1-gs1-grupoA-7d5e5897', 'chave_de_particao': 'grupoA', 'chave_final': 'cosmos1-gs2-grupoA-9f9148ea', 'quantidade_exames': 1}\n",
            "\n",
            "{'exame_id': 4, 'resultados': True, 'observacao': 'repouso', 'id': '4', 'chave_inicial': 'cosmos1-gs2-grupoA-8fee039e', 'chave_de_particao': 'grupoA', 'chave_final': 'cosmos1-gs1-grupoA-66c7d12a'}\n",
            "upload finalizado\n",
            "{'exame_id': 5, 'resultados': False, 'id': '5', 'chave_inicial': 'cosmos1-gs1-grupoA-66c7d12a', 'chave_de_particao': 'grupoA', 'chave_final': 'cosmos1-gs2-grupoA-4a9d073b'}\n",
            "upload finalizado\n",
            "{'exame_id': 6, 'resultados': True, 'medicamentos': '2ml', 'id': '6', 'chave_inicial': 'cosmos1-gs2-grupoA-4a9d073b', 'chave_de_particao': 'grupoA', 'chave_final': 'cosmos1-gs1-grupoA-f090a4da'}\n",
            "upload finalizado\n",
            "{'id': '3', 'paciente_id': 3, 'chave_inicial': 'cosmos1-gs2-grupoA-8fee039e', 'chave_de_particao': 'grupoA', 'chave_final': 'cosmos1-gs1-grupoA-f090a4da', 'quantidade_exames': 3}\n"
          ]
        }
      ]
    }
  ]
}