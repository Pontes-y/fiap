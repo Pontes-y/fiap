{
  "nbformat": 4,
  "nbformat_minor": 0,
  "metadata": {
    "colab": {
      "provenance": [],
      "authorship_tag": "ABX9TyNq9wMXYBAvz4gZsEGhBs/J",
      "include_colab_link": true
    },
    "kernelspec": {
      "name": "python3",
      "display_name": "Python 3"
    },
    "language_info": {
      "name": "python"
    }
  },
  "cells": [
    {
      "cell_type": "markdown",
      "metadata": {
        "id": "view-in-github",
        "colab_type": "text"
      },
      "source": [
        "<a href=\"https://colab.research.google.com/github/Pontes-y/fiap/blob/yp_fiap_ano2_fase4/fiap_ano2_fase_07.ipynb\" target=\"_parent\"><img src=\"https://colab.research.google.com/assets/colab-badge.svg\" alt=\"Open In Colab\"/></a>"
      ]
    },
    {
      "cell_type": "markdown",
      "source": [
        "Fase 7\\\n",
        "Notebook para importar as imagens de URLs em um CSV para o bucket na Azure"
      ],
      "metadata": {
        "id": "ehHOP42du3f7"
      }
    },
    {
      "cell_type": "code",
      "source": [
        "# Biblioteca azure-storage-blob\n",
        "!pip install azure-storage-blob"
      ],
      "metadata": {
        "id": "twHKGfbRxxHh"
      },
      "execution_count": null,
      "outputs": []
    },
    {
      "cell_type": "code",
      "execution_count": 66,
      "metadata": {
        "id": "H20klF9fuOmb"
      },
      "outputs": [],
      "source": [
        "import os\n",
        "import pandas as pd\n",
        "import subprocess\n",
        "from google.colab import userdata\n",
        "from urllib.parse import urlparse\n",
        "from datetime import datetime, timedelta\n",
        "from azure.storage.blob import BlobServiceClient, generate_container_sas, AccountSasPermissions, ResourceTypes"
      ]
    },
    {
      "cell_type": "code",
      "source": [
        "# Arquivo CSV com as URLs\n",
        "df = pd.read_csv('BX-Books.csv')"
      ],
      "metadata": {
        "id": "0-JbF014wBbx"
      },
      "execution_count": 67,
      "outputs": []
    },
    {
      "cell_type": "code",
      "source": [
        "# Configurações da conta da Azure com segredos do Colab\n",
        "account_url = userdata.get('account_url')\n",
        "account_name = userdata.get('account_name')\n",
        "account_key = userdata.get('account_key')"
      ],
      "metadata": {
        "id": "u6SEjU7EwEvK"
      },
      "execution_count": 68,
      "outputs": []
    },
    {
      "cell_type": "code",
      "source": [
        "# Ciando um SAS tokens\n",
        "sas_token = generate_container_sas(\n",
        "    account_name=account_name,\n",
        "    container_name=\"bx-images\",\n",
        "    account_key=account_key,\n",
        "    permission=AccountSasPermissions(read=True, write=True, delete=True),\n",
        "    expiry=datetime.utcnow() + timedelta(days=1),\n",
        "    resource_types=ResourceTypes(container=True, object=True)\n",
        ")"
      ],
      "metadata": {
        "id": "dKs1QHLW8P94"
      },
      "execution_count": 69,
      "outputs": []
    },
    {
      "cell_type": "code",
      "source": [
        "# Conectando ao Blob Storage\n",
        "blob_service_client = BlobServiceClient(account_url=account_url, credential=sas_token)\n",
        "container_name = \"bx-images\"\n",
        "container_client = blob_service_client.get_container_client(container_name)"
      ],
      "metadata": {
        "id": "F_Te7QAjwHWX"
      },
      "execution_count": 70,
      "outputs": []
    },
    {
      "cell_type": "code",
      "source": [
        "# Função de download da imagem e upload para o Blob Storage\n",
        "def download_and_upload_image(url):\n",
        "    file_name = os.path.basename(urlparse(url).path)\n",
        "    blob_prefix = f\"Image-URL-S/{file_name}\"\n",
        "    subprocess.call(['curl', '-o', file_name, url])\n",
        "    blob_client = container_client.get_blob_client(blob_prefix)\n",
        "    with open(file_name, 'rb') as f:\n",
        "        blob_client.upload_blob(f)"
      ],
      "metadata": {
        "id": "DTIka-Btwn5l"
      },
      "execution_count": 72,
      "outputs": []
    },
    {
      "cell_type": "code",
      "source": [
        "for index, row in df.iterrows():\n",
        "    url = row['Image-URL-S']\n",
        "    if url:\n",
        "        download_and_upload_image(url)"
      ],
      "metadata": {
        "id": "8__tvcG-10IW"
      },
      "execution_count": 73,
      "outputs": []
    }
  ]
}